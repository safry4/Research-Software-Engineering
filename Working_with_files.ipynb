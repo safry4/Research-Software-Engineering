{
  "nbformat": 4,
  "nbformat_minor": 0,
  "metadata": {
    "colab": {
      "provenance": [],
      "authorship_tag": "ABX9TyP7gXw8U3uW42oPwa7ajCjQ",
      "include_colab_link": true
    },
    "kernelspec": {
      "name": "python3",
      "display_name": "Python 3"
    },
    "language_info": {
      "name": "python"
    }
  },
  "cells": [
    {
      "cell_type": "markdown",
      "metadata": {
        "id": "view-in-github",
        "colab_type": "text"
      },
      "source": [
        "<a href=\"https://colab.research.google.com/github/safry4/Research-Software-Engineering/blob/main/Working_with_files.ipynb\" target=\"_parent\"><img src=\"https://colab.research.google.com/assets/colab-badge.svg\" alt=\"Open In Colab\"/></a>"
      ]
    },
    {
      "cell_type": "code",
      "execution_count": 1,
      "metadata": {
        "colab": {
          "base_uri": "https://localhost:8080/"
        },
        "id": "WLUEu3ed8oK-",
        "outputId": "d9a33aeb-8739-4fb4-9c30-0b233a912f37"
      },
      "outputs": [
        {
          "output_type": "stream",
          "name": "stdout",
          "text": [
            "Writing mydata.txt\n"
          ]
        }
      ],
      "source": [
        "%%writefile mydata.txt\n",
        "A poet once said, 'The whole universe is in a glass of wine.'\n",
        "We will probably never know in what sense he meant it, \n",
        "for poets do not write to be understood. \n",
        "But it is true that if we look at a glass of wine closely enough we see the entire universe. \n",
        "There are the things of physics: the twisting liquid which evaporates depending\n",
        "on the wind and weather, the reflection in the glass;\n",
        "and our imagination adds atoms.\n",
        "The glass is a distillation of the earth's rocks,\n",
        "and in its composition we see the secrets of the universe's age, and the evolution of stars. \n",
        "What strange array of chemicals are in the wine? How did they come to be? \n",
        "There are the ferments, the enzymes, the substrates, and the products.\n",
        "There in wine is found the great generalization; all life is fermentation.\n",
        "Nobody can discover the chemistry of wine without discovering, \n",
        "as did Louis Pasteur, the cause of much disease.\n",
        "How vivid is the claret, pressing its existence into the consciousness that watches it!\n",
        "If our small minds, for some convenience, divide this glass of wine, this universe, \n",
        "into parts -- \n",
        "physics, biology, geology, astronomy, psychology, and so on -- \n",
        "remember that nature does not know it!\n",
        "\n",
        "So let us put it all back together, not forgetting ultimately what it is for.\n",
        "Let it give us one more final pleasure; drink it and forget it all!\n",
        "   - Richard Feynman"
      ]
    },
    {
      "cell_type": "code",
      "source": [
        "import os\n",
        "os.getcwd()"
      ],
      "metadata": {
        "colab": {
          "base_uri": "https://localhost:8080/",
          "height": 35
        },
        "id": "Zyhxdtdl83A4",
        "outputId": "d6ccea88-15b1-4ad6-abf7-435012af7d92"
      },
      "execution_count": 2,
      "outputs": [
        {
          "output_type": "execute_result",
          "data": {
            "text/plain": [
              "'/content'"
            ],
            "application/vnd.google.colaboratory.intrinsic+json": {
              "type": "string"
            }
          },
          "metadata": {},
          "execution_count": 2
        }
      ]
    },
    {
      "cell_type": "code",
      "source": [
        "[x for x in os.listdir(os.getcwd()) if \".txt\" in x]"
      ],
      "metadata": {
        "colab": {
          "base_uri": "https://localhost:8080/"
        },
        "id": "y_BonZDH9GCA",
        "outputId": "91513b63-dfa6-422d-ad84-1ea33ff943d6"
      },
      "execution_count": 3,
      "outputs": [
        {
          "output_type": "execute_result",
          "data": {
            "text/plain": [
              "['mydata.txt']"
            ]
          },
          "metadata": {},
          "execution_count": 3
        }
      ]
    },
    {
      "cell_type": "code",
      "source": [
        "#parent folder name\n",
        "\n",
        "os.path.dirname(os.getcwd())"
      ],
      "metadata": {
        "colab": {
          "base_uri": "https://localhost:8080/",
          "height": 35
        },
        "id": "a-3sWhzu9RUo",
        "outputId": "10d1c075-0578-40ee-b155-961a73bcc72b"
      },
      "execution_count": 4,
      "outputs": [
        {
          "output_type": "execute_result",
          "data": {
            "text/plain": [
              "'/'"
            ],
            "application/vnd.google.colaboratory.intrinsic+json": {
              "type": "string"
            }
          },
          "metadata": {},
          "execution_count": 4
        }
      ]
    },
    {
      "cell_type": "code",
      "source": [
        "myfile = open(\"mydata.txt\")"
      ],
      "metadata": {
        "id": "BYf-5K8n-VCg"
      },
      "execution_count": 5,
      "outputs": []
    },
    {
      "cell_type": "code",
      "source": [
        "type(myfile)"
      ],
      "metadata": {
        "colab": {
          "base_uri": "https://localhost:8080/"
        },
        "id": "j4La4Oc8-YS_",
        "outputId": "25848e0d-58f3-4104-dc11-1f7528743019"
      },
      "execution_count": 6,
      "outputs": [
        {
          "output_type": "execute_result",
          "data": {
            "text/plain": [
              "_io.TextIOWrapper"
            ]
          },
          "metadata": {},
          "execution_count": 6
        }
      ]
    },
    {
      "cell_type": "code",
      "source": [
        "[x for x in myfile]"
      ],
      "metadata": {
        "colab": {
          "base_uri": "https://localhost:8080/"
        },
        "id": "qhV5u2Pz-dgx",
        "outputId": "5e8e0716-9dbf-4a41-cb60-8c14fb646da7"
      },
      "execution_count": 7,
      "outputs": [
        {
          "output_type": "execute_result",
          "data": {
            "text/plain": [
              "[\"A poet once said, 'The whole universe is in a glass of wine.'\\n\",\n",
              " 'We will probably never know in what sense he meant it, \\n',\n",
              " 'for poets do not write to be understood. \\n',\n",
              " 'But it is true that if we look at a glass of wine closely enough we see the entire universe. \\n',\n",
              " 'There are the things of physics: the twisting liquid which evaporates depending\\n',\n",
              " 'on the wind and weather, the reflection in the glass;\\n',\n",
              " 'and our imagination adds atoms.\\n',\n",
              " \"The glass is a distillation of the earth's rocks,\\n\",\n",
              " \"and in its composition we see the secrets of the universe's age, and the evolution of stars. \\n\",\n",
              " 'What strange array of chemicals are in the wine? How did they come to be? \\n',\n",
              " 'There are the ferments, the enzymes, the substrates, and the products.\\n',\n",
              " 'There in wine is found the great generalization; all life is fermentation.\\n',\n",
              " 'Nobody can discover the chemistry of wine without discovering, \\n',\n",
              " 'as did Louis Pasteur, the cause of much disease.\\n',\n",
              " 'How vivid is the claret, pressing its existence into the consciousness that watches it!\\n',\n",
              " 'If our small minds, for some convenience, divide this glass of wine, this universe, \\n',\n",
              " 'into parts -- \\n',\n",
              " 'physics, biology, geology, astronomy, psychology, and so on -- \\n',\n",
              " 'remember that nature does not know it!\\n',\n",
              " '\\n',\n",
              " 'So let us put it all back together, not forgetting ultimately what it is for.\\n',\n",
              " 'Let it give us one more final pleasure; drink it and forget it all!\\n',\n",
              " '   - Richard Feynman\\n']"
            ]
          },
          "metadata": {},
          "execution_count": 7
        }
      ]
    },
    {
      "cell_type": "code",
      "source": [
        "[x for x in myfile]"
      ],
      "metadata": {
        "colab": {
          "base_uri": "https://localhost:8080/"
        },
        "id": "VetDR35G-1vF",
        "outputId": "95459aa9-56e1-4125-ea4f-dec7f238e404"
      },
      "execution_count": 8,
      "outputs": [
        {
          "output_type": "execute_result",
          "data": {
            "text/plain": [
              "[]"
            ]
          },
          "metadata": {},
          "execution_count": 8
        }
      ]
    },
    {
      "cell_type": "code",
      "source": [
        "myfile.seek(0)"
      ],
      "metadata": {
        "colab": {
          "base_uri": "https://localhost:8080/"
        },
        "id": "_b1U0HfF-2zy",
        "outputId": "9216f75e-4e99-435c-ec08-fe5ddcaba051"
      },
      "execution_count": 9,
      "outputs": [
        {
          "output_type": "execute_result",
          "data": {
            "text/plain": [
              "0"
            ]
          },
          "metadata": {},
          "execution_count": 9
        }
      ]
    },
    {
      "cell_type": "code",
      "source": [
        "myfile.seek(0)\n",
        "first = myfile.readline()"
      ],
      "metadata": {
        "id": "30hk-K3W_bL8"
      },
      "execution_count": 10,
      "outputs": []
    },
    {
      "cell_type": "code",
      "source": [
        "first"
      ],
      "metadata": {
        "colab": {
          "base_uri": "https://localhost:8080/",
          "height": 35
        },
        "id": "JiVrxDuI_cGR",
        "outputId": "c8f0617f-33c5-4516-fe4f-63995676dbe5"
      },
      "execution_count": 11,
      "outputs": [
        {
          "output_type": "execute_result",
          "data": {
            "text/plain": [
              "\"A poet once said, 'The whole universe is in a glass of wine.'\\n\""
            ],
            "application/vnd.google.colaboratory.intrinsic+json": {
              "type": "string"
            }
          },
          "metadata": {},
          "execution_count": 11
        }
      ]
    },
    {
      "cell_type": "code",
      "source": [
        "rest = myfile.read()"
      ],
      "metadata": {
        "id": "uCVt8KpK_8oh"
      },
      "execution_count": 12,
      "outputs": []
    },
    {
      "cell_type": "code",
      "source": [
        "rest"
      ],
      "metadata": {
        "colab": {
          "base_uri": "https://localhost:8080/",
          "height": 122
        },
        "id": "u8JptHhS_9gW",
        "outputId": "1b081839-987f-41cf-ac31-10b91ba1f98a"
      },
      "execution_count": 13,
      "outputs": [
        {
          "output_type": "execute_result",
          "data": {
            "text/plain": [
              "\"We will probably never know in what sense he meant it, \\nfor poets do not write to be understood. \\nBut it is true that if we look at a glass of wine closely enough we see the entire universe. \\nThere are the things of physics: the twisting liquid which evaporates depending\\non the wind and weather, the reflection in the glass;\\nand our imagination adds atoms.\\nThe glass is a distillation of the earth's rocks,\\nand in its composition we see the secrets of the universe's age, and the evolution of stars. \\nWhat strange array of chemicals are in the wine? How did they come to be? \\nThere are the ferments, the enzymes, the substrates, and the products.\\nThere in wine is found the great generalization; all life is fermentation.\\nNobody can discover the chemistry of wine without discovering, \\nas did Louis Pasteur, the cause of much disease.\\nHow vivid is the claret, pressing its existence into the consciousness that watches it!\\nIf our small minds, for some convenience, divide this glass of wine, this universe, \\ninto parts -- \\nphysics, biology, geology, astronomy, psychology, and so on -- \\nremember that nature does not know it!\\n\\nSo let us put it all back together, not forgetting ultimately what it is for.\\nLet it give us one more final pleasure; drink it and forget it all!\\n   - Richard Feynman\\n\""
            ],
            "application/vnd.google.colaboratory.intrinsic+json": {
              "type": "string"
            }
          },
          "metadata": {},
          "execution_count": 13
        }
      ]
    },
    {
      "cell_type": "code",
      "source": [
        "open(\"mydata.txt\").read()"
      ],
      "metadata": {
        "colab": {
          "base_uri": "https://localhost:8080/",
          "height": 122
        },
        "id": "RM3mEQz2ABC5",
        "outputId": "d722cbf2-32b4-4af8-fa5d-ac119d9043fd"
      },
      "execution_count": 14,
      "outputs": [
        {
          "output_type": "execute_result",
          "data": {
            "text/plain": [
              "\"A poet once said, 'The whole universe is in a glass of wine.'\\nWe will probably never know in what sense he meant it, \\nfor poets do not write to be understood. \\nBut it is true that if we look at a glass of wine closely enough we see the entire universe. \\nThere are the things of physics: the twisting liquid which evaporates depending\\non the wind and weather, the reflection in the glass;\\nand our imagination adds atoms.\\nThe glass is a distillation of the earth's rocks,\\nand in its composition we see the secrets of the universe's age, and the evolution of stars. \\nWhat strange array of chemicals are in the wine? How did they come to be? \\nThere are the ferments, the enzymes, the substrates, and the products.\\nThere in wine is found the great generalization; all life is fermentation.\\nNobody can discover the chemistry of wine without discovering, \\nas did Louis Pasteur, the cause of much disease.\\nHow vivid is the claret, pressing its existence into the consciousness that watches it!\\nIf our small minds, for some convenience, divide this glass of wine, this universe, \\ninto parts -- \\nphysics, biology, geology, astronomy, psychology, and so on -- \\nremember that nature does not know it!\\n\\nSo let us put it all back together, not forgetting ultimately what it is for.\\nLet it give us one more final pleasure; drink it and forget it all!\\n   - Richard Feynman\\n\""
            ],
            "application/vnd.google.colaboratory.intrinsic+json": {
              "type": "string"
            }
          },
          "metadata": {},
          "execution_count": 14
        }
      ]
    },
    {
      "cell_type": "code",
      "source": [
        "#string as a file\n",
        "mystring = \"Hello World\\n My name is James\""
      ],
      "metadata": {
        "id": "nj7xh4RHA4p0"
      },
      "execution_count": 15,
      "outputs": []
    },
    {
      "cell_type": "code",
      "source": [
        "from io import StringIO"
      ],
      "metadata": {
        "id": "-SxcnAvYA9sp"
      },
      "execution_count": 16,
      "outputs": []
    },
    {
      "cell_type": "code",
      "source": [
        "mystringasafile = StringIO(mystring)"
      ],
      "metadata": {
        "id": "x-O-ptHhBD4z"
      },
      "execution_count": 17,
      "outputs": []
    },
    {
      "cell_type": "code",
      "source": [
        "mystringasafile.readline()"
      ],
      "metadata": {
        "colab": {
          "base_uri": "https://localhost:8080/",
          "height": 35
        },
        "id": "T7DLbNoeBG7V",
        "outputId": "978a1cf4-db30-41ec-b0ce-938aa5cef603"
      },
      "execution_count": 18,
      "outputs": [
        {
          "output_type": "execute_result",
          "data": {
            "text/plain": [
              "'Hello World\\n'"
            ],
            "application/vnd.google.colaboratory.intrinsic+json": {
              "type": "string"
            }
          },
          "metadata": {},
          "execution_count": 18
        }
      ]
    },
    {
      "cell_type": "code",
      "source": [
        "with open(\"mydata.txt\") as somefile:\n",
        "    content = somefile.read()\n",
        "\n",
        "content"
      ],
      "metadata": {
        "colab": {
          "base_uri": "https://localhost:8080/",
          "height": 122
        },
        "id": "hZ8NiVT4BJCE",
        "outputId": "c03d5c20-6948-41b7-b6c1-7cb80683faf6"
      },
      "execution_count": 19,
      "outputs": [
        {
          "output_type": "execute_result",
          "data": {
            "text/plain": [
              "\"A poet once said, 'The whole universe is in a glass of wine.'\\nWe will probably never know in what sense he meant it, \\nfor poets do not write to be understood. \\nBut it is true that if we look at a glass of wine closely enough we see the entire universe. \\nThere are the things of physics: the twisting liquid which evaporates depending\\non the wind and weather, the reflection in the glass;\\nand our imagination adds atoms.\\nThe glass is a distillation of the earth's rocks,\\nand in its composition we see the secrets of the universe's age, and the evolution of stars. \\nWhat strange array of chemicals are in the wine? How did they come to be? \\nThere are the ferments, the enzymes, the substrates, and the products.\\nThere in wine is found the great generalization; all life is fermentation.\\nNobody can discover the chemistry of wine without discovering, \\nas did Louis Pasteur, the cause of much disease.\\nHow vivid is the claret, pressing its existence into the consciousness that watches it!\\nIf our small minds, for some convenience, divide this glass of wine, this universe, \\ninto parts -- \\nphysics, biology, geology, astronomy, psychology, and so on -- \\nremember that nature does not know it!\\n\\nSo let us put it all back together, not forgetting ultimately what it is for.\\nLet it give us one more final pleasure; drink it and forget it all!\\n   - Richard Feynman\\n\""
            ],
            "application/vnd.google.colaboratory.intrinsic+json": {
              "type": "string"
            }
          },
          "metadata": {},
          "execution_count": 19
        }
      ]
    }
  ]
}