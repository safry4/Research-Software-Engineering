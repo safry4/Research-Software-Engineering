{
  "nbformat": 4,
  "nbformat_minor": 0,
  "metadata": {
    "colab": {
      "provenance": [],
      "authorship_tag": "ABX9TyN778SAmrNnPFOEzyYD2j5G",
      "include_colab_link": true
    },
    "kernelspec": {
      "name": "python3",
      "display_name": "Python 3"
    },
    "language_info": {
      "name": "python"
    }
  },
  "cells": [
    {
      "cell_type": "markdown",
      "metadata": {
        "id": "view-in-github",
        "colab_type": "text"
      },
      "source": [
        "<a href=\"https://colab.research.google.com/github/safry4/Research-Software-Engineering/blob/main/Advanced_numpy.ipynb\" target=\"_parent\"><img src=\"https://colab.research.google.com/assets/colab-badge.svg\" alt=\"Open In Colab\"/></a>"
      ]
    },
    {
      "cell_type": "code",
      "execution_count": 1,
      "metadata": {
        "id": "salbKGCNYf2E"
      },
      "outputs": [],
      "source": [
        "import numpy as np"
      ]
    },
    {
      "cell_type": "markdown",
      "source": [
        "- By default, array operations are element-by-element\n",
        "- Arrays must match in all dimensions in order to be compatible\n",
        "- If we multiply arrays with non-matching shapes we get an error"
      ],
      "metadata": {
        "id": "u8kmd3pkZKou"
      }
    },
    {
      "cell_type": "markdown",
      "source": [
        "Except, that if one array has any Dimension 1, then the data is REPEATED to match the other."
      ],
      "metadata": {
        "id": "30T8nHapZ2TM"
      }
    },
    {
      "cell_type": "code",
      "source": [
        "x = np.array([1, 2]).reshape(1, 2)\n",
        "x"
      ],
      "metadata": {
        "colab": {
          "base_uri": "https://localhost:8080/"
        },
        "id": "3RjGhQsuZ4GZ",
        "outputId": "7466f2f4-fda8-4e8d-c126-650d840dc959"
      },
      "execution_count": 2,
      "outputs": [
        {
          "output_type": "execute_result",
          "data": {
            "text/plain": [
              "array([[1, 2]])"
            ]
          },
          "metadata": {},
          "execution_count": 2
        }
      ]
    },
    {
      "cell_type": "code",
      "source": [
        "y = np.array([3, 4, 5]).reshape(3, 1)\n",
        "y"
      ],
      "metadata": {
        "colab": {
          "base_uri": "https://localhost:8080/"
        },
        "id": "hjcTMQbga2li",
        "outputId": "55368df3-7b28-4806-c183-403c31b09d97"
      },
      "execution_count": 3,
      "outputs": [
        {
          "output_type": "execute_result",
          "data": {
            "text/plain": [
              "array([[3],\n",
              "       [4],\n",
              "       [5]])"
            ]
          },
          "metadata": {},
          "execution_count": 3
        }
      ]
    },
    {
      "cell_type": "code",
      "source": [
        "result = x + y\n",
        "result.shape"
      ],
      "metadata": {
        "colab": {
          "base_uri": "https://localhost:8080/"
        },
        "id": "DyQbgc7Xa6u9",
        "outputId": "53f456a3-7b4f-4b31-dded-4f445b4d0738"
      },
      "execution_count": 4,
      "outputs": [
        {
          "output_type": "execute_result",
          "data": {
            "text/plain": [
              "(3, 2)"
            ]
          },
          "metadata": {},
          "execution_count": 4
        }
      ]
    },
    {
      "cell_type": "code",
      "source": [
        "result"
      ],
      "metadata": {
        "colab": {
          "base_uri": "https://localhost:8080/"
        },
        "id": "86oA0zDabHsw",
        "outputId": "652f4d11-f9d8-403b-9137-6a2cd364126d"
      },
      "execution_count": 5,
      "outputs": [
        {
          "output_type": "execute_result",
          "data": {
            "text/plain": [
              "array([[4, 5],\n",
              "       [5, 6],\n",
              "       [6, 7]])"
            ]
          },
          "metadata": {},
          "execution_count": 5
        }
      ]
    },
    {
      "cell_type": "markdown",
      "source": [
        "Broadcasting is very powerful, and numpy allows indexing with np.newaxis to temporarily create new one-long dimensions on the fly."
      ],
      "metadata": {
        "id": "42A5rC-YbyCC"
      }
    },
    {
      "cell_type": "markdown",
      "source": [
        "Dot Products using broadcasting"
      ],
      "metadata": {
        "id": "1W0tOD9fcGKC"
      }
    },
    {
      "cell_type": "code",
      "source": [
        "a = np.arange(9).reshape(3, 3)\n",
        "a"
      ],
      "metadata": {
        "colab": {
          "base_uri": "https://localhost:8080/"
        },
        "id": "riPCcWdEcIRQ",
        "outputId": "82e4a8db-eed7-4453-8a73-42aa8aed72d6"
      },
      "execution_count": 6,
      "outputs": [
        {
          "output_type": "execute_result",
          "data": {
            "text/plain": [
              "array([[0, 1, 2],\n",
              "       [3, 4, 5],\n",
              "       [6, 7, 8]])"
            ]
          },
          "metadata": {},
          "execution_count": 6
        }
      ]
    },
    {
      "cell_type": "code",
      "source": [
        "b = np.arange(3, 12).reshape(3, 3)\n",
        "b"
      ],
      "metadata": {
        "colab": {
          "base_uri": "https://localhost:8080/"
        },
        "id": "NBoffeEqcX4z",
        "outputId": "f8283bb4-a5ec-4c35-ea6f-2b7a4a6c4203"
      },
      "execution_count": 7,
      "outputs": [
        {
          "output_type": "execute_result",
          "data": {
            "text/plain": [
              "array([[ 3,  4,  5],\n",
              "       [ 6,  7,  8],\n",
              "       [ 9, 10, 11]])"
            ]
          },
          "metadata": {},
          "execution_count": 7
        }
      ]
    },
    {
      "cell_type": "code",
      "source": [
        "a[:, :, np.newaxis].shape"
      ],
      "metadata": {
        "colab": {
          "base_uri": "https://localhost:8080/"
        },
        "id": "MNx5SpiDcbdn",
        "outputId": "1a148c17-3f5f-42a1-cabd-90950fcff1c0"
      },
      "execution_count": 8,
      "outputs": [
        {
          "output_type": "execute_result",
          "data": {
            "text/plain": [
              "(3, 3, 1)"
            ]
          },
          "metadata": {},
          "execution_count": 8
        }
      ]
    },
    {
      "cell_type": "code",
      "source": [
        "b[np.newaxis, :, :].shape"
      ],
      "metadata": {
        "colab": {
          "base_uri": "https://localhost:8080/"
        },
        "id": "4Jxdo09lchmV",
        "outputId": "d2f3afb7-e45d-47ec-d015-70a74dd2fa95"
      },
      "execution_count": 9,
      "outputs": [
        {
          "output_type": "execute_result",
          "data": {
            "text/plain": [
              "(1, 3, 3)"
            ]
          },
          "metadata": {},
          "execution_count": 9
        }
      ]
    },
    {
      "cell_type": "code",
      "source": [
        "a[:, :, np.newaxis] * b[np.newaxis, :, :]"
      ],
      "metadata": {
        "colab": {
          "base_uri": "https://localhost:8080/"
        },
        "id": "NUM3FV4bcl2k",
        "outputId": "89164a15-b3c0-4e89-c47f-dc9cff8a0ea1"
      },
      "execution_count": 10,
      "outputs": [
        {
          "output_type": "execute_result",
          "data": {
            "text/plain": [
              "array([[[ 0,  0,  0],\n",
              "        [ 6,  7,  8],\n",
              "        [18, 20, 22]],\n",
              "\n",
              "       [[ 9, 12, 15],\n",
              "        [24, 28, 32],\n",
              "        [45, 50, 55]],\n",
              "\n",
              "       [[18, 24, 30],\n",
              "        [42, 49, 56],\n",
              "        [72, 80, 88]]])"
            ]
          },
          "metadata": {},
          "execution_count": 10
        }
      ]
    },
    {
      "cell_type": "code",
      "source": [
        "(a[:, :, np.newaxis] * b[np.newaxis, :, :]).sum(1)"
      ],
      "metadata": {
        "colab": {
          "base_uri": "https://localhost:8080/"
        },
        "id": "2scm-7tGdEv_",
        "outputId": "65b5b5f4-5203-4a69-ea48-99419ae00940"
      },
      "execution_count": 12,
      "outputs": [
        {
          "output_type": "execute_result",
          "data": {
            "text/plain": [
              "array([[ 24,  27,  30],\n",
              "       [ 78,  90, 102],\n",
              "       [132, 153, 174]])"
            ]
          },
          "metadata": {},
          "execution_count": 12
        }
      ]
    },
    {
      "cell_type": "code",
      "source": [
        "#the same\n",
        "a @ b"
      ],
      "metadata": {
        "colab": {
          "base_uri": "https://localhost:8080/"
        },
        "id": "fbNWJU4AdA7c",
        "outputId": "04bcd4e7-6f0e-459e-ee0e-ab0646f9531b"
      },
      "execution_count": 11,
      "outputs": [
        {
          "output_type": "execute_result",
          "data": {
            "text/plain": [
              "array([[ 24,  27,  30],\n",
              "       [ 78,  90, 102],\n",
              "       [132, 153, 174]])"
            ]
          },
          "metadata": {},
          "execution_count": 11
        }
      ]
    },
    {
      "cell_type": "code",
      "source": [],
      "metadata": {
        "id": "j3Wp3oQXdMCT"
      },
      "execution_count": null,
      "outputs": []
    },
    {
      "cell_type": "markdown",
      "source": [
        "Record arrays"
      ],
      "metadata": {
        "id": "KYL-JtVmdZ_f"
      }
    },
    {
      "cell_type": "code",
      "source": [
        "x = np.arange(50).reshape([10, 5])\n",
        "record_x = x.view(\n",
        "    dtype={\"names\": [\"col1\", \"col2\", \"another\", \"more\", \"last\"], \"formats\": [int] * 5}\n",
        ")\n",
        "record_x"
      ],
      "metadata": {
        "colab": {
          "base_uri": "https://localhost:8080/"
        },
        "id": "8XG4Os37dbqN",
        "outputId": "8e0e4ef0-fa45-4dfc-bbe1-6c6736ceb4ae"
      },
      "execution_count": 13,
      "outputs": [
        {
          "output_type": "execute_result",
          "data": {
            "text/plain": [
              "array([[( 0,  1,  2,  3,  4)],\n",
              "       [( 5,  6,  7,  8,  9)],\n",
              "       [(10, 11, 12, 13, 14)],\n",
              "       [(15, 16, 17, 18, 19)],\n",
              "       [(20, 21, 22, 23, 24)],\n",
              "       [(25, 26, 27, 28, 29)],\n",
              "       [(30, 31, 32, 33, 34)],\n",
              "       [(35, 36, 37, 38, 39)],\n",
              "       [(40, 41, 42, 43, 44)],\n",
              "       [(45, 46, 47, 48, 49)]],\n",
              "      dtype=[('col1', '<i8'), ('col2', '<i8'), ('another', '<i8'), ('more', '<i8'), ('last', '<i8')])"
            ]
          },
          "metadata": {},
          "execution_count": 13
        }
      ]
    },
    {
      "cell_type": "code",
      "source": [
        "record_x[\"col1\"]"
      ],
      "metadata": {
        "colab": {
          "base_uri": "https://localhost:8080/"
        },
        "id": "4P6A2gQzdh48",
        "outputId": "66ca8037-3b10-434c-ad77-ce04817575bc"
      },
      "execution_count": 14,
      "outputs": [
        {
          "output_type": "execute_result",
          "data": {
            "text/plain": [
              "array([[ 0],\n",
              "       [ 5],\n",
              "       [10],\n",
              "       [15],\n",
              "       [20],\n",
              "       [25],\n",
              "       [30],\n",
              "       [35],\n",
              "       [40],\n",
              "       [45]])"
            ]
          },
          "metadata": {},
          "execution_count": 14
        }
      ]
    },
    {
      "cell_type": "code",
      "source": [],
      "metadata": {
        "id": "N0fvOw6sdlH3"
      },
      "execution_count": null,
      "outputs": []
    },
    {
      "cell_type": "markdown",
      "source": [
        "Logical arrays, masking, and selection"
      ],
      "metadata": {
        "id": "unFk39hvdqkd"
      }
    },
    {
      "cell_type": "code",
      "source": [
        "#Numpy memory"
      ],
      "metadata": {
        "id": "xH81nbK-drc9"
      },
      "execution_count": null,
      "outputs": []
    },
    {
      "cell_type": "code",
      "source": [
        "x = np.arange(5)\n",
        "y = x[:]"
      ],
      "metadata": {
        "id": "glnyFiQkepMH"
      },
      "execution_count": 15,
      "outputs": []
    },
    {
      "cell_type": "code",
      "source": [
        "y[2] = 0\n",
        "x"
      ],
      "metadata": {
        "colab": {
          "base_uri": "https://localhost:8080/"
        },
        "id": "GjJu6hnNeweC",
        "outputId": "23f4c333-4f2a-45ea-d9bf-96721d3cb8a4"
      },
      "execution_count": 16,
      "outputs": [
        {
          "output_type": "execute_result",
          "data": {
            "text/plain": [
              "array([0, 1, 0, 3, 4])"
            ]
          },
          "metadata": {},
          "execution_count": 16
        }
      ]
    },
    {
      "cell_type": "markdown",
      "source": [
        "We must use np.copy to force separate memory. Otherwise NumPy tries its hardest to make slices be views on data."
      ],
      "metadata": {
        "id": "OQu-EfYve3t5"
      }
    }
  ]
}