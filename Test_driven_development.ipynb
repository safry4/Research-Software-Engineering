{
  "nbformat": 4,
  "nbformat_minor": 0,
  "metadata": {
    "colab": {
      "provenance": [],
      "authorship_tag": "ABX9TyM8HzxhtsKpPqJEH/YmnzPy",
      "include_colab_link": true
    },
    "kernelspec": {
      "name": "python3",
      "display_name": "Python 3"
    },
    "language_info": {
      "name": "python"
    }
  },
  "cells": [
    {
      "cell_type": "markdown",
      "metadata": {
        "id": "view-in-github",
        "colab_type": "text"
      },
      "source": [
        "<a href=\"https://colab.research.google.com/github/safry4/Research-Software-Engineering/blob/main/Test_driven_development.ipynb\" target=\"_parent\"><img src=\"https://colab.research.google.com/assets/colab-badge.svg\" alt=\"Open In Colab\"/></a>"
      ]
    },
    {
      "cell_type": "code",
      "execution_count": 1,
      "metadata": {
        "id": "VfFfQOV5pVZF"
      },
      "outputs": [],
      "source": [
        "!mkdir -p saskatchewan"
      ]
    },
    {
      "cell_type": "code",
      "source": [
        "%%writefile saskatchewan/overlap.py\n",
        "def overlap(field1, field2):\n",
        "    left1, bottom1, top1, right1 = field1\n",
        "    left2, bottom2, top2, right2 = field2\n",
        "\n",
        "    overlap_left = max(left1, left2)\n",
        "    overlap_bottom = max(bottom1, bottom2)\n",
        "    overlap_right = min(right1, right2)\n",
        "    overlap_top = min(top1, top2)\n",
        "    # Here's our wrong code again\n",
        "    overlap_height = overlap_top - overlap_bottom\n",
        "    overlap_width = overlap_right - overlap_left\n",
        "\n",
        "    return overlap_height * overlap_width"
      ],
      "metadata": {
        "colab": {
          "base_uri": "https://localhost:8080/"
        },
        "id": "F0mCAm8BrqdC",
        "outputId": "9cc7e6d9-b039-458a-ef56-25a2f859598b"
      },
      "execution_count": 2,
      "outputs": [
        {
          "output_type": "stream",
          "name": "stdout",
          "text": [
            "Writing saskatchewan/overlap.py\n"
          ]
        }
      ]
    },
    {
      "cell_type": "code",
      "source": [
        "%%writefile saskatchewan/test_overlap.py\n",
        "from overlap import overlap\n",
        "\n",
        "\n",
        "def test_full_overlap():\n",
        "    assert overlap((1.0, 1.0, 4.0, 4.0), (2.0, 2.0, 3.0, 3.0)) == 1.0\n",
        "\n",
        "\n",
        "def test_partial_overlap():\n",
        "    assert overlap((1, 1, 4, 4), (2, 2, 3, 4.5)) == 2.0\n",
        "\n",
        "\n",
        "def test_no_overlap():\n",
        "    assert overlap((1, 1, 4, 4), (4.5, 4.5, 5, 5)) == 0.0"
      ],
      "metadata": {
        "colab": {
          "base_uri": "https://localhost:8080/"
        },
        "id": "fCNf113qr7Eg",
        "outputId": "aaa4bb41-3e6b-40f8-b577-dad60643a37c"
      },
      "execution_count": 2,
      "outputs": [
        {
          "output_type": "stream",
          "name": "stdout",
          "text": [
            "Writing saskatchewan/test_overlap.py\n"
          ]
        }
      ]
    },
    {
      "cell_type": "code",
      "source": [
        "import pytest"
      ],
      "metadata": {
        "id": "R4xu3gh1sAXQ"
      },
      "execution_count": 3,
      "outputs": []
    },
    {
      "cell_type": "code",
      "source": [
        "!pwd"
      ],
      "metadata": {
        "colab": {
          "base_uri": "https://localhost:8080/"
        },
        "id": "R9UTkTMBsgIL",
        "outputId": "26aa0da2-b6d9-47c8-b357-28252ce87eb3"
      },
      "execution_count": 4,
      "outputs": [
        {
          "output_type": "stream",
          "name": "stdout",
          "text": [
            "/content\n"
          ]
        }
      ]
    },
    {
      "cell_type": "code",
      "source": [
        "cd /content/saskatchewan"
      ],
      "metadata": {
        "colab": {
          "base_uri": "https://localhost:8080/"
        },
        "id": "lEisj5CgsuUO",
        "outputId": "dea6ed85-1a62-4b93-8a6a-c4298367e868"
      },
      "execution_count": 5,
      "outputs": [
        {
          "output_type": "stream",
          "name": "stdout",
          "text": [
            "/content/saskatchewan\n"
          ]
        }
      ]
    },
    {
      "cell_type": "code",
      "source": [
        "!python -m pytest test_overlap.py"
      ],
      "metadata": {
        "colab": {
          "base_uri": "https://localhost:8080/"
        },
        "id": "oupTjlBDs0yJ",
        "outputId": "bb012de7-74bf-45d8-b307-8785e4185d88"
      },
      "execution_count": 6,
      "outputs": [
        {
          "output_type": "stream",
          "name": "stdout",
          "text": [
            "\u001b[1m============================= test session starts ==============================\u001b[0m\n",
            "platform linux -- Python 3.8.16, pytest-3.6.4, py-1.11.0, pluggy-0.7.1\n",
            "rootdir: /content/saskatchewan, inifile:\n",
            "plugins: typeguard-2.7.1\n",
            "\u001b[1m\rcollecting 0 items                                                             \u001b[0m\u001b[1m\rcollecting 3 items                                                             \u001b[0m\u001b[1m\rcollected 3 items                                                              \u001b[0m\n",
            "\n",
            "test_overlap.py ..F\u001b[36m                                                      [100%]\u001b[0m\n",
            "\n",
            "=================================== FAILURES ===================================\n",
            "\u001b[31m\u001b[1m_______________________________ test_no_overlap ________________________________\u001b[0m\n",
            "\n",
            "\u001b[1m    def test_no_overlap():\u001b[0m\n",
            "\u001b[1m>       assert overlap((1, 1, 4, 4), (4.5, 4.5, 5, 5)) == 0.0\u001b[0m\n",
            "\u001b[1m\u001b[31mE       assert 0.25 == 0.0\u001b[0m\n",
            "\u001b[1m\u001b[31mE        +  where 0.25 = overlap((1, 1, 4, 4), (4.5, 4.5, 5, 5))\u001b[0m\n",
            "\n",
            "\u001b[1m\u001b[31mtest_overlap.py\u001b[0m:13: AssertionError\n",
            "\u001b[31m\u001b[1m====================== 1 failed, 2 passed in 0.04 seconds ======================\u001b[0m\n"
          ]
        }
      ]
    },
    {
      "cell_type": "code",
      "source": [
        "pip -q install pytest pytest-sugar"
      ],
      "metadata": {
        "id": "UVe4u3G7uF8G"
      },
      "execution_count": 14,
      "outputs": []
    },
    {
      "cell_type": "code",
      "source": [
        "%%file test_math.py\n",
        "\n",
        "import math\n",
        "def test_add():\n",
        "    assert 1+1 == 2\n",
        "\n",
        "def test_mul():\n",
        "    assert 6*7 == 42\n",
        "\n",
        "def test_sin():\n",
        "    assert math.sin(0) == 0"
      ],
      "metadata": {
        "colab": {
          "base_uri": "https://localhost:8080/"
        },
        "id": "OXUWj6BauHRM",
        "outputId": "9abd0000-44bd-431c-c905-f7454ba46961"
      },
      "execution_count": 15,
      "outputs": [
        {
          "output_type": "stream",
          "name": "stdout",
          "text": [
            "Writing test_math.py\n"
          ]
        }
      ]
    },
    {
      "cell_type": "code",
      "source": [
        "!python -m pytest test_math.py "
      ],
      "metadata": {
        "colab": {
          "base_uri": "https://localhost:8080/"
        },
        "id": "P5HUri-3uPsT",
        "outputId": "d92a56f1-62c1-4788-e0ff-d55181d1e15f"
      },
      "execution_count": 16,
      "outputs": [
        {
          "output_type": "stream",
          "name": "stdout",
          "text": [
            "\u001b[1mTest session starts (platform: linux, Python 3.8.16, pytest 3.6.4, pytest-sugar 0.9.6)\u001b[0m\n",
            "rootdir: /content/saskatchewan, inifile:\n",
            "plugins: typeguard-2.7.1, sugar-0.9.6\n",
            "\r\n",
            "\r \u001b[36m\u001b[0mtest_math.py\u001b[0m \u001b[32m✓\u001b[0m                                                   \u001b[32m33% \u001b[0m\u001b[40m\u001b[32m█\u001b[0m\u001b[40m\u001b[32m██▍      \u001b[0m\r \u001b[36m\u001b[0mtest_math.py\u001b[0m \u001b[32m✓\u001b[0m\u001b[32m✓\u001b[0m                                                  \u001b[32m67% \u001b[0m\u001b[40m\u001b[32m█\u001b[0m\u001b[40m\u001b[32m██\u001b[0m\u001b[40m\u001b[32m█\u001b[0m\u001b[40m\u001b[32m██▋   \u001b[0m\r \u001b[36m\u001b[0mtest_math.py\u001b[0m \u001b[32m✓\u001b[0m\u001b[32m✓\u001b[0m\u001b[32m✓\u001b[0m                                                \u001b[32m100% \u001b[0m\u001b[40m\u001b[32m█\u001b[0m\u001b[40m\u001b[32m██\u001b[0m\u001b[40m\u001b[32m█\u001b[0m\u001b[40m\u001b[32m██\u001b[0m\u001b[40m\u001b[32m█\u001b[0m\u001b[40m\u001b[32m███\u001b[0m\n",
            "\n",
            "Results (0.02s):\n",
            "\u001b[32m       3 passed\u001b[0m\n"
          ]
        }
      ]
    },
    {
      "cell_type": "code",
      "source": [
        "##"
      ],
      "metadata": {
        "id": "x6laM36wuYtc"
      },
      "execution_count": null,
      "outputs": []
    }
  ]
}