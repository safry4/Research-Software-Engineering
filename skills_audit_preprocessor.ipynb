{
  "cells": [
    {
      "cell_type": "markdown",
      "metadata": {
        "id": "view-in-github",
        "colab_type": "text"
      },
      "source": [
        "<a href=\"https://colab.research.google.com/github/safry4/Research-Software-Engineering/blob/main/skills_audit_preprocessor.ipynb\" target=\"_parent\"><img src=\"https://colab.research.google.com/assets/colab-badge.svg\" alt=\"Open In Colab\"/></a>"
      ]
    },
    {
      "cell_type": "markdown",
      "source": [
        "## Jupyter notebook export pre-processor\n",
        "\n",
        "This notebook helps pre-process the skills-audit data for the Pair/Team builder script.\n",
        "\n",
        "This notebook must be altered to match the questionnaire used for the skills audit..."
      ],
      "metadata": {
        "datalore": {
          "node_id": "Zg1cfSF1DS8GHQnKeFqWls",
          "type": "MD",
          "hide_input_from_viewers": false,
          "hide_output_from_viewers": false
        },
        "id": "oDFN_-iOQ9hZ"
      }
    },
    {
      "cell_type": "code",
      "source": [
        "'''\n",
        "    A basic function to determine if a course is computer science related....\n",
        "\n",
        "    @param: course:String      A string representing the course to check\n",
        "\n",
        "    @return: _:Boolean         A boolean flag stating if the course is related to comp. sci. or not\n",
        "'''\n",
        "def is_comp_sci_related (course):\n",
        "    course = course.lower().strip()\n",
        "    compsci_terms =  ['computer', 'comp', 'software', 'information', 'technology', 'database', 'machine learning', 'data', 'automation']\n",
        "    for compsci_term in compsci_terms:\n",
        "        if compsci_term in course:\n",
        "            return True\n",
        "\n",
        "    return False\n",
        "\n",
        "\n",
        "def get_english_score (response, index=0):\n",
        "    response_index = [\n",
        "            'I am not confident',\n",
        "            'I am confident',\n",
        "            'I have studied academically in an English-speaking environment',\n",
        "            'I am confident writing in English',\n",
        "            'I am confident in presenting my work / leading a meeting in English',\n",
        "            'I am fluent/native speaker of English'\n",
        "        ].index(response.strip())\n",
        "\n",
        "    '''\n",
        "        0,0\n",
        "\n",
        "    '''\n",
        "\n",
        "    if response_index == 0:\n",
        "        return [0, 0][index]\n",
        "    elif response_index == 1:\n",
        "        return [2, 2][index]\n",
        "    elif response_index == 2:\n",
        "        return [2, 2][index]\n",
        "    elif response_index == 3:\n",
        "        return [1, 2][index]\n",
        "    elif response_index == 4:\n",
        "        return [2, 1][index]\n",
        "    elif response_index == 5:\n",
        "        return [2, 2][index]"
      ],
      "execution_count": null,
      "outputs": [],
      "metadata": {
        "datalore": {
          "node_id": "COPHUEGi1faBQI5oLVF4e8",
          "type": "CODE",
          "hide_input_from_viewers": false,
          "hide_output_from_viewers": false
        },
        "id": "NkZsNj3NQ9hc"
      }
    },
    {
      "cell_type": "markdown",
      "source": [
        "### Modelling the Skills audit questionnaire\n",
        "\n",
        "Here, we model the skills audit questionnaire as a dictionary. This model must reflect what the students were asked to supply."
      ],
      "metadata": {
        "datalore": {
          "node_id": "mamr826mUGzB19oWU2DqoD",
          "type": "MD",
          "hide_input_from_viewers": false,
          "hide_output_from_viewers": false
        },
        "id": "-kM4zHHlQ9hd"
      }
    },
    {
      "cell_type": "code",
      "source": [
        "'''\n",
        "    Here, we model the questionnaire as a dictionary\n",
        "'''\n",
        "\n",
        "\n",
        "questionnaire = {\n",
        "    'Response 1': {     # Open ended question about comp-sci proficiency\n",
        "        'key': 'hasCompSciBackground',\n",
        "        'isOpenEnded': True,\n",
        "        'function': is_comp_sci_related,\n",
        "        'options': None,\n",
        "        'default': False\n",
        "    },\n",
        "    'Response 2': {     # english skill\n",
        "        'key': 'EnglishProficiency',\n",
        "        'keys': ['SpokenEnglishProficiency','WrittenEnglishProficiency'],\n",
        "        'isOpenEnded': True,\n",
        "        'function': get_english_score,\n",
        "        'options': [\n",
        "            'I am confident',\n",
        "            'I am not confident',\n",
        "            'I have studied academically in an English-speaking environment',\n",
        "            'I am confident writing in English',\n",
        "            'I am confident in presenting my work / leading a meeting in English'\n",
        "            'I am fluent/native speaker of English',\n",
        "        ],\n",
        "        'defauit': 1\n",
        "    },\n",
        "    'Response 3': {     # programming skill\n",
        "        'key': 'ProgrammingProficiency',\n",
        "        'isOpenEnded': False,\n",
        "        'function': None,\n",
        "        'options': [\n",
        "            'I have never programmed.',\n",
        "            'I\\'m not confident with my programming skills',\n",
        "            'I\\'m slightly confident with my programming skills',\n",
        "            'I\\'m very confident with my programming skills'\n",
        "        ],\n",
        "        'defauit': 1\n",
        "    },\n",
        "    'Response 4': {     # work experience\n",
        "        'key': 'WorkExperience',\n",
        "        'isOpenEnded': False,\n",
        "        'function': None,\n",
        "        'options': [\n",
        "            'I have come straight from my first degree on to this programme',\n",
        "            'I did a placement year as part of my first degree',\n",
        "            'I have been working for at least one year since graduating',\n",
        "            'I have been working for at least five years since graduating'\n",
        "        ],\n",
        "        'defauit': 1\n",
        "    },\n",
        "    'Response 5': {\n",
        "        'key': 'DAP',\n",
        "        'isOpenEnded': False,\n",
        "        'function': None,\n",
        "        'options': [\n",
        "            'Yes',\n",
        "            'No'\n",
        "        ],\n",
        "        'defauit': 1\n",
        "    }\n",
        "}"
      ],
      "execution_count": null,
      "outputs": [],
      "metadata": {
        "datalore": {
          "node_id": "ggPC7xcdeBjf5Zzsw9laLU",
          "type": "CODE",
          "hide_input_from_viewers": false,
          "hide_output_from_viewers": false
        },
        "id": "qTjpmQJyQ9hd"
      }
    },
    {
      "cell_type": "markdown",
      "source": [
        "### Methods...."
      ],
      "metadata": {
        "datalore": {
          "node_id": "0OmABKHXXC95VZrNIvwpys",
          "type": "MD",
          "hide_input_from_viewers": false,
          "hide_output_from_viewers": false
        },
        "id": "xh7O5H-iQ9hd"
      }
    },
    {
      "cell_type": "code",
      "source": [
        "'''\n",
        "    process_data\n",
        "    This method makes use of the questionnaire to transform the provided data into the expected format.\n",
        "\n",
        "    @param data:List of Dictionary\n",
        "\n",
        "    @return transformed data:List of Dictionary\n",
        "'''\n",
        "\n",
        "def process_data (data):\n",
        "    transformed_data = []\n",
        "\n",
        "    for entry in data:                  # for each response in the skills audit\n",
        "        if entry['State'].strip() == 'In progress':\n",
        "            continue\n",
        "        transformed_entry = {}\n",
        "        for question in questionnaire:\n",
        "            if question in entry:       # if the response has an entry for the question in the questionnaire\n",
        "                if questionnaire[question]['isOpenEnded']:  # evaluate the open-ended question\n",
        "                    if 'keys' in questionnaire[question]:\n",
        "                        counter = 0\n",
        "                        for key in questionnaire[question]['keys']:\n",
        "                            transformed_entry[questionnaire[question]['keys'][counter]] = str(questionnaire[question]['function'](entry[question], counter))\n",
        "                            counter += 1\n",
        "                    else:\n",
        "                        transformed_entry[questionnaire[question]['key']] = str(questionnaire[question]['function'](entry[question]))\n",
        "                else:   # assign a numeric value to the response\n",
        "                    transformed_entry[questionnaire[question]['key']] = str(questionnaire[question]['options'].index(entry[question].strip()))\n",
        "                pass\n",
        "            else:  # if the entry is incomplete, fill in the default value.....\n",
        "                transformed_entry[questionnaire[question]['key']] = str(questionnaire[question]['default'])\n",
        "        # merge name fields and copy across email field....\n",
        "        transformed_entry['email'] = entry['Email address']\n",
        "        transformed_entry['student'] = entry['First name'] + ' ' + entry['Surname']\n",
        "        transformed_data.append(transformed_entry)\n",
        "    return transformed_data\n",
        "\n",
        "\n",
        "\n",
        "'''\n",
        "    save_processed_data\n",
        "    Saves the processed data into a file\n",
        "\n",
        "    @param processed_data:List of Dictionary     processed responses (output of the process_data mathod)\n",
        "    @param file_name:String                      the file to which we will be storing the values\n",
        "\n",
        "    @return None                                 this method returns nothing.\n",
        "'''\n",
        "def save_processed_data (processed_data, file_name):\n",
        "    if len(processed_data) >= 1:\n",
        "        header = processed_data[0].keys()\n",
        "        csv_file_contents = ','.join(header) + '\\n'\n",
        "        for entry in processed_data:\n",
        "            csv_file_contents = csv_file_contents + ','.join(list(entry.values())) + '\\n'\n",
        "        with open(file_name, 'w') as file_writer:\n",
        "            file_writer.write(csv_file_contents)\n"
      ],
      "execution_count": null,
      "outputs": [],
      "metadata": {
        "datalore": {
          "node_id": "9DEE1eE1VUi7zrxk49BAK7",
          "type": "CODE",
          "hide_input_from_viewers": false,
          "hide_output_from_viewers": false
        },
        "id": "bO2vB_2VQ9he"
      }
    },
    {
      "cell_type": "markdown",
      "source": [
        "### Workflow (actual process)\n",
        "\n",
        "- Read in questionnaires. (csv export from Moodle skills audit questionnaire)\n",
        "- Process questionnaires\n",
        "- Export results (export serves as an input to the pair builder script)"
      ],
      "metadata": {
        "datalore": {
          "node_id": "8tW5dpnmrjovSIHTSC65IS",
          "type": "MD",
          "hide_input_from_viewers": false,
          "hide_output_from_viewers": false
        },
        "id": "vECO9N-qQ9he"
      }
    },
    {
      "cell_type": "code",
      "source": [
        "import csv\n",
        "\n",
        "# path to skills audit responses (exported from moodle)...\n",
        "SKILLS_AUDIT_RESPONSES = 'CM50109-Skills Audit 2023-24-responses (2).csv'\n",
        "\n",
        "# path to save the pre-processor's output....\n",
        "SAVE_AS = 'questionnaire_responses_cleaned_20223_final.csv'\n",
        "\n",
        "USER_EXEMPTION_LIST =[]\n",
        "\n",
        "student_responses = csv.DictReader(open(SKILLS_AUDIT_RESPONSES))          # read in data\n",
        "processed_responses = process_data(student_responses)                                   # process responses\n",
        "save_processed_data(processed_responses, SAVE_AS)   # output to a file"
      ],
      "execution_count": null,
      "outputs": [
        {
          "output_type": "error",
          "ename": "ValueError",
          "evalue": "ignored",
          "traceback": [
            "\u001b[0;31m---------------------------------------------------------------------------\u001b[0m",
            "\u001b[0;31mValueError\u001b[0m                                Traceback (most recent call last)",
            "\u001b[0;32m<ipython-input-4-366721d9e181>\u001b[0m in \u001b[0;36m<cell line: 12>\u001b[0;34m()\u001b[0m\n\u001b[1;32m     10\u001b[0m \u001b[0;34m\u001b[0m\u001b[0m\n\u001b[1;32m     11\u001b[0m \u001b[0mstudent_responses\u001b[0m \u001b[0;34m=\u001b[0m \u001b[0mcsv\u001b[0m\u001b[0;34m.\u001b[0m\u001b[0mDictReader\u001b[0m\u001b[0;34m(\u001b[0m\u001b[0mopen\u001b[0m\u001b[0;34m(\u001b[0m\u001b[0mSKILLS_AUDIT_RESPONSES\u001b[0m\u001b[0;34m)\u001b[0m\u001b[0;34m)\u001b[0m          \u001b[0;31m# read in data\u001b[0m\u001b[0;34m\u001b[0m\u001b[0;34m\u001b[0m\u001b[0m\n\u001b[0;32m---> 12\u001b[0;31m \u001b[0mprocessed_responses\u001b[0m \u001b[0;34m=\u001b[0m \u001b[0mprocess_data\u001b[0m\u001b[0;34m(\u001b[0m\u001b[0mstudent_responses\u001b[0m\u001b[0;34m)\u001b[0m                                   \u001b[0;31m# process responses\u001b[0m\u001b[0;34m\u001b[0m\u001b[0;34m\u001b[0m\u001b[0m\n\u001b[0m\u001b[1;32m     13\u001b[0m \u001b[0msave_processed_data\u001b[0m\u001b[0;34m(\u001b[0m\u001b[0mprocessed_responses\u001b[0m\u001b[0;34m,\u001b[0m \u001b[0mSAVE_AS\u001b[0m\u001b[0;34m)\u001b[0m   \u001b[0;31m# output to a file\u001b[0m\u001b[0;34m\u001b[0m\u001b[0;34m\u001b[0m\u001b[0m\n",
            "\u001b[0;32m<ipython-input-3-54510671fa39>\u001b[0m in \u001b[0;36mprocess_data\u001b[0;34m(data)\u001b[0m\n\u001b[1;32m     21\u001b[0m                         \u001b[0mcounter\u001b[0m \u001b[0;34m=\u001b[0m \u001b[0;36m0\u001b[0m\u001b[0;34m\u001b[0m\u001b[0;34m\u001b[0m\u001b[0m\n\u001b[1;32m     22\u001b[0m                         \u001b[0;32mfor\u001b[0m \u001b[0mkey\u001b[0m \u001b[0;32min\u001b[0m \u001b[0mquestionnaire\u001b[0m\u001b[0;34m[\u001b[0m\u001b[0mquestion\u001b[0m\u001b[0;34m]\u001b[0m\u001b[0;34m[\u001b[0m\u001b[0;34m'keys'\u001b[0m\u001b[0;34m]\u001b[0m\u001b[0;34m:\u001b[0m\u001b[0;34m\u001b[0m\u001b[0;34m\u001b[0m\u001b[0m\n\u001b[0;32m---> 23\u001b[0;31m                             \u001b[0mtransformed_entry\u001b[0m\u001b[0;34m[\u001b[0m\u001b[0mquestionnaire\u001b[0m\u001b[0;34m[\u001b[0m\u001b[0mquestion\u001b[0m\u001b[0;34m]\u001b[0m\u001b[0;34m[\u001b[0m\u001b[0;34m'keys'\u001b[0m\u001b[0;34m]\u001b[0m\u001b[0;34m[\u001b[0m\u001b[0mcounter\u001b[0m\u001b[0;34m]\u001b[0m\u001b[0;34m]\u001b[0m \u001b[0;34m=\u001b[0m \u001b[0mstr\u001b[0m\u001b[0;34m(\u001b[0m\u001b[0mquestionnaire\u001b[0m\u001b[0;34m[\u001b[0m\u001b[0mquestion\u001b[0m\u001b[0;34m]\u001b[0m\u001b[0;34m[\u001b[0m\u001b[0;34m'function'\u001b[0m\u001b[0;34m]\u001b[0m\u001b[0;34m(\u001b[0m\u001b[0mentry\u001b[0m\u001b[0;34m[\u001b[0m\u001b[0mquestion\u001b[0m\u001b[0;34m]\u001b[0m\u001b[0;34m,\u001b[0m \u001b[0mcounter\u001b[0m\u001b[0;34m)\u001b[0m\u001b[0;34m)\u001b[0m\u001b[0;34m\u001b[0m\u001b[0;34m\u001b[0m\u001b[0m\n\u001b[0m\u001b[1;32m     24\u001b[0m                             \u001b[0mcounter\u001b[0m \u001b[0;34m+=\u001b[0m \u001b[0;36m1\u001b[0m\u001b[0;34m\u001b[0m\u001b[0;34m\u001b[0m\u001b[0m\n\u001b[1;32m     25\u001b[0m                     \u001b[0;32melse\u001b[0m\u001b[0;34m:\u001b[0m\u001b[0;34m\u001b[0m\u001b[0;34m\u001b[0m\u001b[0m\n",
            "\u001b[0;32m<ipython-input-1-f540bda69026>\u001b[0m in \u001b[0;36mget_english_score\u001b[0;34m(response, index)\u001b[0m\n\u001b[1;32m     24\u001b[0m             \u001b[0;34m'I am confident in presenting my work / leading a meeting in English'\u001b[0m\u001b[0;34m,\u001b[0m\u001b[0;34m\u001b[0m\u001b[0;34m\u001b[0m\u001b[0m\n\u001b[1;32m     25\u001b[0m             \u001b[0;34m'I am fluent/native speaker of English'\u001b[0m\u001b[0;34m\u001b[0m\u001b[0;34m\u001b[0m\u001b[0m\n\u001b[0;32m---> 26\u001b[0;31m         ].index(response.strip())\n\u001b[0m\u001b[1;32m     27\u001b[0m \u001b[0;34m\u001b[0m\u001b[0m\n\u001b[1;32m     28\u001b[0m     '''\n",
            "\u001b[0;31mValueError\u001b[0m: 'English' is not in list"
          ]
        }
      ],
      "metadata": {
        "datalore": {
          "node_id": "tKoHm5BCV4g83lobpNrbaJ",
          "type": "CODE",
          "hide_input_from_viewers": false,
          "hide_output_from_viewers": false
        },
        "colab": {
          "base_uri": "https://localhost:8080/",
          "height": 390
        },
        "id": "OCClDy7JQ9he",
        "outputId": "3c7f7cb7-e154-45fb-fad8-c96c7770c44b"
      }
    },
    {
      "cell_type": "code",
      "source": [],
      "execution_count": null,
      "outputs": [],
      "metadata": {
        "datalore": {
          "node_id": "OH9sgkjytNWRIAzq4r11Qj",
          "type": "CODE",
          "hide_input_from_viewers": false,
          "hide_output_from_viewers": false
        },
        "id": "Dh4Jd9kkQ9he"
      }
    }
  ],
  "metadata": {
    "kernelspec": {
      "display_name": "Python",
      "language": "python",
      "name": "python"
    },
    "datalore": {
      "version": 1,
      "computation_mode": "JUPYTER",
      "package_manager": "pip",
      "base_environment": "default",
      "packages": []
    },
    "colab": {
      "provenance": [],
      "include_colab_link": true
    }
  },
  "nbformat": 4,
  "nbformat_minor": 0
}